{
  "nbformat": 4,
  "nbformat_minor": 0,
  "metadata": {
    "colab": {
      "name": "Michelson Interferometer.ipynb",
      "provenance": [],
      "authorship_tag": "ABX9TyOz0VMQu8tzGYS59wGP43a5"
    },
    "kernelspec": {
      "name": "python3",
      "display_name": "Python 3"
    },
    "language_info": {
      "name": "python"
    }
  },
  "cells": [
    {
      "cell_type": "markdown",
      "metadata": {
        "id": "uRNO8KoDyyze"
      },
      "source": [
        "# Objectives\n",
        "\n",
        "* Assemble a Michelson interferometer,\n",
        "* measure the wavelength of a laser, \n",
        "* determine the refractive index of acrylic, and\n",
        "* determine the thermal expansion coefficient of aluminum."
      ]
    },
    {
      "cell_type": "markdown",
      "metadata": {
        "id": "fY_jhfp3zDHa"
      },
      "source": [
        "# Install and import libraries"
      ]
    },
    {
      "cell_type": "code",
      "metadata": {
        "id": "VeSccLffymQB"
      },
      "source": [
        "!pip install whit-phys-util 1>/dev/null"
      ],
      "execution_count": null,
      "outputs": []
    },
    {
      "cell_type": "code",
      "metadata": {
        "id": "uUAQQaVHzH0a"
      },
      "source": [
        "import numpy as np\n",
        "import pandas as pd\n",
        "import whit_phys_util as buc"
      ],
      "execution_count": null,
      "outputs": []
    },
    {
      "cell_type": "markdown",
      "metadata": {
        "id": "v36MK5xIzNx4"
      },
      "source": [
        "# Connect to GitHub"
      ]
    },
    {
      "cell_type": "code",
      "metadata": {
        "id": "Oxbe2YlBzPjg"
      },
      "source": [
        "repo = buc.local_repository(\"replace me\")"
      ],
      "execution_count": null,
      "outputs": []
    },
    {
      "cell_type": "markdown",
      "metadata": {
        "id": "PbV_qrN6zRna"
      },
      "source": [
        "# Equipment\n",
        "\n",
        "| Description | Manufacturer | Model | ID or SN |\n",
        "| ----------- | ------------ | ----- | -------- |\n",
        "| Michelson interferometer kit | Thorlabs | EDU-MINT2 | --- |\n",
        "| diode laser emitting at _fill in_ | Thorlabs | fill in | --- |\n",
        "| power supply | fill in | fill in | fill in |\n",
        "| multimeter | Fluke | fill in | fill in |\n",
        "| digital thermometer | fill in | fill in | fill in |\n"
      ]
    }
  ]
}
