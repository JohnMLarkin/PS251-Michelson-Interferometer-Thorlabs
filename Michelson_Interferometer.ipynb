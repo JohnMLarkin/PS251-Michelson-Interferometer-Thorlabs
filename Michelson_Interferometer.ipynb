{
  "nbformat": 4,
  "nbformat_minor": 0,
  "metadata": {
    "colab": {
      "name": "Michelson Interferometer.ipynb",
      "provenance": [],
      "authorship_tag": "ABX9TyOz0VMQu8tzGYS59wGP43a5"
    },
    "kernelspec": {
      "name": "python3",
      "display_name": "Python 3"
    },
    "language_info": {
      "name": "python"
    }
  },
  "cells": [
    {
      "cell_type": "markdown",
      "metadata": {
        "id": "7ew4Tk8MyvYa"
      },
      "source": [
        "Partner:\n",
        "\n",
        "Date:"
      ]
    },
    {
      "cell_type": "markdown",
      "metadata": {
        "id": "uRNO8KoDyyze"
      },
      "source": [
        "# Objectives\n",
        "\n",
        "Using observations of interference fringes produced by a Michelson\n",
        "interferometer, measure the following quantities:\n",
        "* the wavelength of the red line of the helium-neon laser,\n",
        "* the wavelength of the green line of the helium-neon laser, and\n",
        "* the refractive index of air at both of these wavelengths."
      ]
    },
    {
      "cell_type": "markdown",
      "metadata": {
        "id": "fY_jhfp3zDHa"
      },
      "source": [
        "# Install and import libraries"
      ]
    },
    {
      "cell_type": "code",
      "metadata": {
        "id": "VeSccLffymQB"
      },
      "source": [
        "!pip install whit-phys-util"
      ],
      "execution_count": null,
      "outputs": []
    },
    {
      "cell_type": "code",
      "metadata": {
        "id": "uUAQQaVHzH0a"
      },
      "source": [
        "import numpy as np\n",
        "import pandas as pd\n",
        "import whit_phys_util as buc"
      ],
      "execution_count": null,
      "outputs": []
    },
    {
      "cell_type": "markdown",
      "metadata": {
        "id": "v36MK5xIzNx4"
      },
      "source": [
        "# Connect to GitHub"
      ]
    },
    {
      "cell_type": "code",
      "metadata": {
        "id": "Oxbe2YlBzPjg"
      },
      "source": [
        "repo = buc.local_repository(\"replace me\")"
      ],
      "execution_count": null,
      "outputs": []
    },
    {
      "cell_type": "markdown",
      "metadata": {
        "id": "PbV_qrN6zRna"
      },
      "source": [
        "# Equipment\n",
        "\n",
        "| Description | Manufacturer | Model | ID or SN |\n",
        "| ----------- | ------------ | ----- | -------- |\n",
        "| Michelson interferometer | fill in | fill in (if PASCO) | fill in |\n",
        "| helium-neon laser emitting at 632.8 nm (red) | fill in | fill in | fill in |\n",
        "| helium-neon laser emitting at 543.5 nm (green) | fill in | fill in | fill in |\n",
        "| hand vacuum pump | --- | --- | --- |\n",
        "| vacuum chamber | --- | --- | --- |\n",
        "\n",
        "## Laser warnings\n",
        "\n",
        "The red laser is a Class (fill in) laser.\n",
        "\n",
        "The green laser is a Class (fill in) laser."
      ]
    },
    {
      "cell_type": "markdown",
      "metadata": {
        "id": "G8nXcYrS0RYt"
      },
      "source": [
        "# Determining the wavelength of the green laser"
      ]
    },
    {
      "cell_type": "markdown",
      "metadata": {
        "id": "f43uB4jT0Uz7"
      },
      "source": [
        ""
      ]
    },
    {
      "cell_type": "markdown",
      "metadata": {
        "id": "1lKJNUip0OKM"
      },
      "source": [
        "# Determining the wavelength of the red laser"
      ]
    },
    {
      "cell_type": "markdown",
      "metadata": {
        "id": "o_ipiQdu0VVN"
      },
      "source": [
        ""
      ]
    },
    {
      "cell_type": "code",
      "metadata": {
        "id": "RyXZ_1DA0HAa"
      },
      "source": [
        ""
      ],
      "execution_count": null,
      "outputs": []
    },
    {
      "cell_type": "markdown",
      "metadata": {
        "id": "_sH5OUVp0V6V"
      },
      "source": [
        "# Determining the index of refraction of air"
      ]
    },
    {
      "cell_type": "code",
      "metadata": {
        "id": "qHu_zbB00Yof"
      },
      "source": [
        ""
      ],
      "execution_count": null,
      "outputs": []
    }
  ]
}